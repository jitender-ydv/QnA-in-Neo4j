{
 "cells": [
  {
   "cell_type": "markdown",
   "metadata": {},
   "source": [
    "Merging both the Files"
   ]
  },
  {
   "cell_type": "code",
   "execution_count": 5,
   "metadata": {},
   "outputs": [],
   "source": [
    "import pprint\n",
    "import os\n",
    "import json\n",
    "import pandas"
   ]
  },
  {
   "cell_type": "code",
   "execution_count": null,
   "metadata": {},
   "outputs": [],
   "source": [
    "with open('Desktop\\\\Neo4j_data\\\\all_the_relations.json','r') as f:\n",
    "    Labels = json.load(f)  "
   ]
  },
  {
   "cell_type": "code",
   "execution_count": null,
   "metadata": {},
   "outputs": [],
   "source": [
    "with open('Desktop\\\\Neo4j_data\\\\p01.json') as file:\n",
    "    file_to_graph = json.load(file)"
   ]
  },
  {
   "cell_type": "code",
   "execution_count": null,
   "metadata": {},
   "outputs": [],
   "source": [
    "def replace_dict(json_obj):\n",
    "    for a in json_obj:\n",
    "        for b in Labels:\n",
    "            if json_obj[a] in Labels[b]['Values']:\n",
    "                json_obj[a]={\"Label\" : b, \"key\": Labels[b]['key'], \"value\" : json_obj[a]}"
   ]
  },
  {
   "cell_type": "code",
   "execution_count": null,
   "metadata": {},
   "outputs": [],
   "source": [
    "def replace_array(array):\n",
    "    for i in range(0,len(array)):\n",
    "        if isinstance(array[i],dict):\n",
    "            merge_jsons(array[i])\n",
    "        elif isinstance(array[i],list):\n",
    "            replace_array(array[i])\n",
    "        else:\n",
    "            for b in Labels:\n",
    "                if array[i] in Labels[b]['Values']:\n",
    "                    array[i] = {\"Label\" : b, \"key\": Labels[b]['key'], \"value\" : array[i]}\n",
    "                    break"
   ]
  },
  {
   "cell_type": "code",
   "execution_count": null,
   "metadata": {},
   "outputs": [],
   "source": [
    "def merge_jsons(relations):\n",
    "    for a in relations:\n",
    "        if isinstance(file_to_graph['Facts'][a],dict):\n",
    "            merge_jsons(relations[a])\n",
    "        elif isinstance(relations[a],list):\n",
    "            replace_array(relations[a])\n",
    "        else:\n",
    "            for b in Labels:\n",
    "                if relations[a] in Labels[b]['Values']:\n",
    "                    relations[a]={\"Label\" : b, \"key\": Labels[b]['key'], \"value\" : file_to_graph['Facts'][a]}\n",
    "                    break"
   ]
  },
  {
   "cell_type": "code",
   "execution_count": null,
   "metadata": {},
   "outputs": [],
   "source": [
    "pprint.pprint(file_to_graph)"
   ]
  },
  {
   "cell_type": "code",
   "execution_count": null,
   "metadata": {},
   "outputs": [],
   "source": [
    "merge_jsons(file_to_graph['Facts'])\n",
    "with open('Desktop\\\\Neo4j_data\\\\merged_file.json', 'w') as output:\n",
    "    json.dump(file_to_graph,output,indent=8)"
   ]
  },
  {
   "cell_type": "code",
   "execution_count": null,
   "metadata": {},
   "outputs": [],
   "source": []
  },
  {
   "cell_type": "code",
   "execution_count": null,
   "metadata": {},
   "outputs": [],
   "source": []
  },
  {
   "cell_type": "code",
   "execution_count": null,
   "metadata": {},
   "outputs": [],
   "source": [
    "for a in file_to_graph['Facts']:\n",
    "    pprint.pprint(file_to_graph['Facts'][a])\n"
   ]
  },
  {
   "cell_type": "markdown",
   "metadata": {},
   "source": [
    "Creating all the Nodes"
   ]
  },
  {
   "cell_type": "code",
   "execution_count": 1,
   "metadata": {},
   "outputs": [],
   "source": [
    "from neo4j import GraphDatabase"
   ]
  },
  {
   "cell_type": "code",
   "execution_count": 2,
   "metadata": {},
   "outputs": [],
   "source": [
    "#connection driver\n",
    "graphdb = GraphDatabase.driver(uri=\"bolt://localhost:7687\", auth=(\"neo4j\",\"jeet5097\"))"
   ]
  },
  {
   "cell_type": "code",
   "execution_count": 3,
   "metadata": {},
   "outputs": [],
   "source": [
    "session = graphdb.session()"
   ]
  },
  {
   "cell_type": "code",
   "execution_count": 6,
   "metadata": {},
   "outputs": [],
   "source": [
    "with open(\"Desktop//Neo4j_data/all_the_relations.json\",'r') as data:\n",
    "    all_the_nodes = json.load(data)"
   ]
  },
  {
   "cell_type": "code",
   "execution_count": 7,
   "metadata": {},
   "outputs": [
    {
     "name": "stdout",
     "output_type": "stream",
     "text": [
      "{'Case_No': {'Values': ['Case No.316/2014', 'Case No.180/2007'], 'key': 'No'},\n",
      " 'Currency': {'Values': ['Rs. 22,00,000/-', 'Rs. 2,00,000/-'], 'key': 'Amount'},\n",
      " 'Date': {'Values': ['14.7.2016',\n",
      "                     '26.6.2014',\n",
      "                     '1.12.2008',\n",
      "                     '10.9.2016',\n",
      "                     '3.6.2016'],\n",
      "          'key': 'date'},\n",
      " 'FIR': {'Values': ['FIR No.38/91'], 'key': 'No'},\n",
      " 'Name_of_the_file': {'Values': 'p11.txt', 'key': 'Name'},\n",
      " 'Organisation': {'Values': ['HIGH COURT',\n",
      "                             'Supreme Court',\n",
      "                             'Life Insurance Corporation of India'],\n",
      "                  'key': 'Name'},\n",
      " 'Person': {'Values': ['SUMITA JARYAL',\n",
      "                       'ANITA SOOD',\n",
      "                       'MR. LALIT SEHGAL',\n",
      "                       'MR. RAJIV SOOD',\n",
      "                       'AJAY MOHAN GOEL',\n",
      "                       'Mr. ABC',\n",
      "                       'Mr. PQR',\n",
      "                       'Mr. GHI',\n",
      "                       'Mr. XYZ',\n",
      "                       'Mr. JKL',\n",
      "                       'Sanjay Kumar'],\n",
      "            'key': 'Name'},\n",
      " 'Place': {'Values': ['HIMACHAL PRADESH', 'SHIMLA'], 'key': 'Name'},\n",
      " 'Sections_referred': {'Values': ['Section 1', 'Section 2'], 'key': 'No'},\n",
      " 'Time': {'Values': ['9:10:40', '10:30:30'], 'key': 'time'},\n",
      " 'Vehicle_No': {'Values': ['RJ32SC3467', 'KL12AB1234'], 'key': 'No'}}\n"
     ]
    }
   ],
   "source": [
    "pprint.pprint(all_the_nodes)"
   ]
  },
  {
   "cell_type": "code",
   "execution_count": 8,
   "metadata": {},
   "outputs": [
    {
     "name": "stdout",
     "output_type": "stream",
     "text": [
      "'CREATE (:Name_of_the_file{Name:\"p11.txt\"})'\n",
      "'CREATE (:Case_No{No:\"Case No.316/2014\"})'\n",
      "'CREATE (:Case_No{No:\"Case No.180/2007\"})'\n",
      "'CREATE (:Currency{Amount:\"Rs. 22,00,000/-\"})'\n",
      "'CREATE (:Currency{Amount:\"Rs. 2,00,000/-\"})'\n",
      "'CREATE (:Date{date:\"14.7.2016\"})'\n",
      "'CREATE (:Date{date:\"26.6.2014\"})'\n",
      "'CREATE (:Date{date:\"1.12.2008\"})'\n",
      "'CREATE (:Date{date:\"10.9.2016\"})'\n",
      "'CREATE (:Date{date:\"3.6.2016\"})'\n",
      "'CREATE (:Organisation{Name:\"HIGH COURT\"})'\n",
      "'CREATE (:Organisation{Name:\"Supreme Court\"})'\n",
      "'CREATE (:Organisation{Name:\"Life Insurance Corporation of India\"})'\n",
      "'CREATE (:Person{Name:\"SUMITA JARYAL\"})'\n",
      "'CREATE (:Person{Name:\"ANITA SOOD\"})'\n",
      "'CREATE (:Person{Name:\"MR. LALIT SEHGAL\"})'\n",
      "'CREATE (:Person{Name:\"MR. RAJIV SOOD\"})'\n",
      "'CREATE (:Person{Name:\"AJAY MOHAN GOEL\"})'\n",
      "'CREATE (:Person{Name:\"Mr. ABC\"})'\n",
      "'CREATE (:Person{Name:\"Mr. PQR\"})'\n",
      "'CREATE (:Person{Name:\"Mr. GHI\"})'\n",
      "'CREATE (:Person{Name:\"Mr. XYZ\"})'\n",
      "'CREATE (:Person{Name:\"Mr. JKL\"})'\n",
      "'CREATE (:Person{Name:\"Sanjay Kumar\"})'\n",
      "'CREATE (:Place{Name:\"HIMACHAL PRADESH\"})'\n",
      "'CREATE (:Place{Name:\"SHIMLA\"})'\n",
      "'CREATE (:Sections_referred{No:\"Section 1\"})'\n",
      "'CREATE (:Sections_referred{No:\"Section 2\"})'\n",
      "'CREATE (:Time{time:\"9:10:40\"})'\n",
      "'CREATE (:Time{time:\"10:30:30\"})'\n",
      "'CREATE (:Vehicle_No{No:\"RJ32SC3467\"})'\n",
      "'CREATE (:Vehicle_No{No:\"KL12AB1234\"})'\n",
      "'CREATE (:FIR{No:\"FIR No.38/91\"})'\n"
     ]
    }
   ],
   "source": [
    "for a in all_the_nodes:\n",
    "    if isinstance(all_the_nodes[a]['Values'],list):\n",
    "        for i in range(0,len(all_the_nodes[a]['Values'])):\n",
    "            query='CREATE (:'+a+'{'+all_the_nodes[a]['key']+ ':\"' + all_the_nodes[a]['Values'][i] +'\"})'\n",
    "            pprint.pprint(query)\n",
    "            session.run(query)\n",
    "    else:\n",
    "        query='CREATE (:'+a+'{'+all_the_nodes[a]['key']+ ':\"' + all_the_nodes[a]['Values'] +'\"})'\n",
    "        pprint.pprint(query)\n",
    "        session.run(query)"
   ]
  },
  {
   "cell_type": "markdown",
   "metadata": {},
   "source": [
    "Creating Relations"
   ]
  },
  {
   "cell_type": "code",
   "execution_count": 9,
   "metadata": {},
   "outputs": [],
   "source": [
    "with open(\"Desktop/Neo4j_data/merged_file.json\",'r') as rel:\n",
    "    relations_to_be_created = json.load(rel)"
   ]
  },
  {
   "cell_type": "code",
   "execution_count": 10,
   "metadata": {},
   "outputs": [
    {
     "name": "stdout",
     "output_type": "stream",
     "text": [
      "{'Facts': {'Acccused': {'Label': 'Person', 'key': 'Name', 'value': 'Mr. XYZ'},\n",
      "           'Appellant': {'Label': 'Person', 'key': 'Name', 'value': 'Mr. ABC'},\n",
      "           'Attorneys': {'Appellant': {'Label': 'Person',\n",
      "                                       'key': 'Name',\n",
      "                                       'value': 'Mr. ABC'},\n",
      "                         'Respondent': {'Label': 'Person',\n",
      "                                        'key': 'Name',\n",
      "                                        'value': 'Mr. XYZ'}},\n",
      "           'Case_No.': {'Label': 'Case_No',\n",
      "                        'key': 'No',\n",
      "                        'value': 'Case No.180/2007'},\n",
      "           'FIR_No': {'Label': 'FIR', 'key': 'No', 'value': 'FIR No.38/91'},\n",
      "           'Final_Judgment': 'Appeal Dismissed',\n",
      "           'Judge': {'Label': 'Person', 'key': 'Name', 'value': 'Mr. PQR'},\n",
      "           'Judgment_date': {'Label': 'Date',\n",
      "                             'key': 'date',\n",
      "                             'value': '3.6.2016'},\n",
      "           'Respondent': {'Label': 'Person', 'key': 'Name', 'value': 'Mr. XYZ'},\n",
      "           'Sections_referred': [{'Label': 'Sections_referred',\n",
      "                                  'key': 'No',\n",
      "                                  'value': 'Section 1'},\n",
      "                                 {'Label': 'Sections_referred',\n",
      "                                  'key': 'No',\n",
      "                                  'value': 'Section 2'}],\n",
      "           'Witnesses': {'Label': 'Person',\n",
      "                         'key': 'Name',\n",
      "                         'value': 'Sanjay Kumar'},\n",
      "           'victim': {'Label': 'Person', 'key': 'Name', 'value': 'Mr. ABC'}},\n",
      " 'Name_of_the_file': 'p11.txt'}\n"
     ]
    }
   ],
   "source": [
    "pprint.pprint(relations_to_be_created)"
   ]
  },
  {
   "cell_type": "code",
   "execution_count": 11,
   "metadata": {},
   "outputs": [],
   "source": [
    "def create_relations_of_list(rel_name,list_obj):\n",
    "    for i in range(0,len(list_obj)):\n",
    "        query1 = 'Merge (node1:Case_No{No:\"'+relations_to_be_created['Facts']['Case_No.'][\"value\"]+'\"})'\n",
    "        query1 = query1+' Merge(node2:'+list_obj[i]['Label']+'{'+ list_obj[i]['key']+':\"'+ list_obj[i]['value']+'\"}) '\n",
    "        query1 = query1+ 'Merge (node1)-[:'+ rel_name +']->(node2)'\n",
    "        print(query1)\n",
    "        session.run(query1)"
   ]
  },
  {
   "cell_type": "code",
   "execution_count": 12,
   "metadata": {},
   "outputs": [],
   "source": [
    "def create_relations_of_json(json_obj):\n",
    "    for a in json_obj:\n",
    "        if a != 'Case_No.' :\n",
    "            if 'Label' in json_obj[a]:\n",
    "                query1 = 'Merge (node1:Case_No{No:\"'+json_obj['Case_No.'][\"value\"]+'\"})'\n",
    "                query1 = query1+' Merge(node2:'+json_obj[a]['Label']+'{'+ json_obj[a]['key']+':\"'+ json_obj[a]['value']+'\"}) '\n",
    "                query1 = query1+ 'Merge (node1)-[:'+ a +']->(node2)'\n",
    "                print(query1)\n",
    "                session.run(query1)\n",
    "            elif isinstance(json_obj[a],list):\n",
    "                create_relations_of_list(a,json_obj[a])\n",
    "#                 continue"
   ]
  },
  {
   "cell_type": "code",
   "execution_count": 13,
   "metadata": {},
   "outputs": [
    {
     "name": "stdout",
     "output_type": "stream",
     "text": [
      "Merge (node1:Case_No{No:\"Case No.180/2007\"}) Merge(node2:Person{Name:\"Mr. PQR\"}) Merge (node1)-[:Judge]->(node2)\n",
      "Merge (node1:Case_No{No:\"Case No.180/2007\"}) Merge(node2:Person{Name:\"Mr. XYZ\"}) Merge (node1)-[:Acccused]->(node2)\n",
      "Merge (node1:Case_No{No:\"Case No.180/2007\"}) Merge(node2:Person{Name:\"Mr. ABC\"}) Merge (node1)-[:victim]->(node2)\n",
      "Merge (node1:Case_No{No:\"Case No.180/2007\"}) Merge(node2:Person{Name:\"Sanjay Kumar\"}) Merge (node1)-[:Witnesses]->(node2)\n",
      "Merge (node1:Case_No{No:\"Case No.180/2007\"}) Merge(node2:Person{Name:\"Mr. ABC\"}) Merge (node1)-[:Appellant]->(node2)\n",
      "Merge (node1:Case_No{No:\"Case No.180/2007\"}) Merge(node2:Person{Name:\"Mr. XYZ\"}) Merge (node1)-[:Respondent]->(node2)\n",
      "Merge (node1:Case_No{No:\"Case No.180/2007\"}) Merge(node2:FIR{No:\"FIR No.38/91\"}) Merge (node1)-[:FIR_No]->(node2)\n",
      "Merge (node1:Case_No{No:\"Case No.180/2007\"}) Merge(node2:Sections_referred{No:\"Section 1\"}) Merge (node1)-[:Sections_referred]->(node2)\n",
      "Merge (node1:Case_No{No:\"Case No.180/2007\"}) Merge(node2:Sections_referred{No:\"Section 2\"}) Merge (node1)-[:Sections_referred]->(node2)\n",
      "Merge (node1:Case_No{No:\"Case No.180/2007\"}) Merge(node2:Date{date:\"3.6.2016\"}) Merge (node1)-[:Judgment_date]->(node2)\n"
     ]
    }
   ],
   "source": [
    "create_relations_of_json(relations_to_be_created['Facts'])"
   ]
  },
  {
   "cell_type": "markdown",
   "metadata": {},
   "source": [
    "Creating Relations from the file"
   ]
  },
  {
   "cell_type": "code",
   "execution_count": 14,
   "metadata": {},
   "outputs": [],
   "source": [
    "def split(s):\n",
    "     parts = []\n",
    "     bracket_level = 0\n",
    "     current = []\n",
    "     for c in (s + \",\"):\n",
    "         if c == \",\" and bracket_level == 0:\n",
    "             parts.append(\"\".join(current))\n",
    "             current = []\n",
    "         else:\n",
    "             if c == \"{\":\n",
    "                 bracket_level += 1\n",
    "             elif c == \"}\":\n",
    "                 bracket_level -= 1\n",
    "             current.append(c)\n",
    "     return parts"
   ]
  },
  {
   "cell_type": "code",
   "execution_count": 16,
   "metadata": {},
   "outputs": [
    {
     "name": "stdout",
     "output_type": "stream",
     "text": [
      "Merge (E1:Case_No{No:\"Case No.101/2012\"}) Merge (E2:Person{Name:\"Mr. ABC\"}) Merge (E1)-[:filed_by]->(E2)\n",
      "Merge (E1:Case_No{No:\"Case No.101/2012\"}) Merge (E2:Person{Name:\"Mr. XYZ\"}) Merge (E1)-[:responded_by]->(E2)\n",
      "Merge (E1:Case_No{No:\"Case No.101/2012\"}) Merge (E2:Person{Name:\"Mr. PQR\"}) Merge (E1)-[:judged_by]->(E2)\n",
      "Merge (E1:Case_No{No:\"Case No.101/2012\"}) Merge (E2:Case_No{No:\"Case No.234/2011\"}) Merge (E1)-[:cited]->(E2)\n",
      "Merge (E1:Case_No{No:\"Case No.101/2012\"}) Merge (E2:Case_No{No:\"Case No.12/2004\"}) Merge (E1)-[:cited]->(E2)\n",
      "Merge (E1:Case_No{No:\"Case No.101/2012\"}) Merge (E2:Case_No{No:\"Case No.117/2006\"}) Merge (E1)-[:cited]->(E2)\n",
      "Merge (E1:Case_No{No:\"Case No.101/2012\"}) Merge (E2:Case_No{No:\"Case No.23/1990\"}) Merge (E1)-[:cited]->(E2)\n",
      "Merge (E1:Case_No{No:\"Case No.101/2012\"}) Merge (E2:Sections_referred{No:\"Section 1\"}) Merge (E1)-[:referred]->(E2)\n",
      "Merge (E1:Case_No{No:\"Case No.101/2012\"}) Merge (E2:Sections_referred{No:\"Section 2\"}) Merge (E1)-[:referred]->(E2)\n",
      "Merge (E1:Case_No{No:\"Case No.101/2012\"}) Merge (E2:Sections_referred{No:\"Section 3\"}) Merge (E1)-[:referred]->(E2)\n",
      "Merge (E1:Person{Name:\"Mr. XYZ\"}) Merge (E2:Crime{Name:\"Crime\"}) Merge (E1)-[:charged_for]->(E2)\n",
      "Merge (E1:Person{Name:\"Mr. XYZ\"}) Merge (E2:Sections_referred{No:\"Section 1\"}) Merge (E1)-[:convicted_under]->(E2)\n",
      "Merge (E1:Crime{Name:\"Crime\"}) Merge (E2:Date{date:\"1.12.2010\"}) Merge (E1)-[:happened_on ]->(E2)\n",
      "Merge (E1:Crime{Name:\"Crime\"}) Merge (E2:Sections_referred{No:\"Section 1\"}) Merge (E1)-[:punishable_under]->(E2)\n",
      "Merge (E1:FIR{No:\"FIR No.117/2010\"}) Merge (E2:Date{date:\"5.12.2010\"}) Merge (E1)-[:registered_on]->(E2)\n",
      "Merge (E1:FIR{No:\"FIR No.117/2010\"}) Merge (E2:Sections_referred{No:\"Section 1\"}) Merge (E1)-[:registered_under]->(E2)\n",
      "Merge (E1:FIR{No:\"FIR No.117/2010\"}) Merge (E2:Person{Name:\"Mr. XYZ\"}) Merge (E1)-[:registered_against]->(E2)\n",
      "Merge (E1:Complaint{Name:\"Complaint\"}) Merge (E2:Date{date:\"12.12.2010\"}) Merge (E1)-[:filed_on]->(E2)\n",
      "Merge (E1:Complaint{Name:\"Complaint\"}) Merge (E2:Person{Name:\"Mr. XYZ\"}) Merge (E1)-[:filed_against]->(E2)\n",
      "Merge (E1:Complaint{Name:\"Complaint\"}) Merge (E2:Sections_referred{No:\"Section 1\"}) Merge (E1)-[:filed_under]->(E2)\n",
      "Merge (E1:Person{Name:\"Mr. ABC\"}) Merge (E2:Complaint{Name:\"Complaint\"}) Merge (E1)-[:filed]->(E2)\n",
      "Merge (E1:Person{Name:\"Mr. PQR\"}) Merge (E2:Judgment{Name:\"Judgment\"}) Merge (E1)-[:decided]->(E2)\n",
      "Merge (E1:Person{Name:\"Mr. XYZ\"}) Merge (E2:Judgment{Name:\"Judgment\"}) Merge (E1)-[:sentenced_to]->(E2)\n",
      "Merge (E1:Judgment{Name:\"Judgment\"}) Merge (E2:Date{date:\"5.1.2012\"}) Merge (E1)-[:decided_on]->(E2)\n",
      "Merge (E1:Person{Name:\"Mr. PQR\"}) Merge (E2:Person{Name:\"Mr. XYZ\"}) Merge (E1)-[:convicted]->(E2)\n"
     ]
    }
   ],
   "source": [
    "f = open('Desktop\\\\Neo4j_data\\\\realtions_syntax_to_Create_File.txt', \"r\")\n",
    "Nodes = f.readlines()\n",
    "for i in range(0,len(Nodes)):\n",
    "    node = Nodes[i]\n",
    "    node=node.replace('(','')\n",
    "    node=node.replace(')','')\n",
    "    props=split(node)\n",
    "    e1,r1,e2 = props[0],props[1],props[2]\n",
    "    l1=e1.split('{')[0]\n",
    "    l2=e2.split('{')[0]\n",
    "    e1props=l1+'{'+e1.split(\"\\\"\")[1]+':\"'+e1.split(\"\\\"\")[3]+'\"}'\n",
    "    e2props=l2+'{'+e2.split(\"\\\"\")[1]+':\"'+e2.split(\"\\\"\")[3]+'\"}'\n",
    "    query2 = 'Merge (E1:'+e1props+') Merge (E2:'+e2props+') Merge (E1)-[:'+r1+']->(E2)'\n",
    "    session.run(query2)\n",
    "    print(query2)"
   ]
  },
  {
   "cell_type": "code",
   "execution_count": null,
   "metadata": {
    "scrolled": true
   },
   "outputs": [],
   "source": []
  },
  {
   "cell_type": "code",
   "execution_count": null,
   "metadata": {},
   "outputs": [],
   "source": []
  },
  {
   "cell_type": "markdown",
   "metadata": {},
   "source": [
    "Merge 2 Databases"
   ]
  },
  {
   "cell_type": "code",
   "execution_count": 22,
   "metadata": {
    "scrolled": true
   },
   "outputs": [
    {
     "data": {
      "text/plain": [
       "<neo4j.BoltStatementResult at 0x1ed25b55978>"
      ]
     },
     "execution_count": 22,
     "metadata": {},
     "output_type": "execute_result"
    }
   ],
   "source": [
    "session.run(\"call apoc.export.cypherAll('test2.cypher', {format:'plain'})\")"
   ]
  },
  {
   "cell_type": "markdown",
   "metadata": {},
   "source": [
    "Queries to View, Delete and Create etc"
   ]
  },
  {
   "cell_type": "code",
   "execution_count": null,
   "metadata": {},
   "outputs": [],
   "source": [
    "#View the Graph Query\n",
    "view_graph='MATCH (n:Person) RETURN where n.Name=\"Mr. XYZ\" n'\n",
    "ans = session.run(view_graph)\n",
    "for a in ans:    \n",
    "    pprint.pprint((a))"
   ]
  },
  {
   "cell_type": "code",
   "execution_count": null,
   "metadata": {},
   "outputs": [],
   "source": [
    "#Deletion of all the nodes and relations\n",
    "del_ent=\"MATCH (v) DETACH DELETE v\""
   ]
  },
  {
   "cell_type": "code",
   "execution_count": null,
   "metadata": {},
   "outputs": [],
   "source": [
    "#Deletion of any entity having no relationsips\n",
    "MATCH (n)\n",
    "WHERE size((n)--())=0\n",
    "DELETE (n)"
   ]
  },
  {
   "cell_type": "code",
   "execution_count": null,
   "metadata": {},
   "outputs": [],
   "source": [
    "#Deletion of a Relationship\n",
    "del_rel = \"MATCH (entity1)-[r:rel_name]->(entity2) delete r\""
   ]
  },
  {
   "cell_type": "code",
   "execution_count": null,
   "metadata": {},
   "outputs": [],
   "source": [
    "nodes=session.run(view_graph)"
   ]
  },
  {
   "cell_type": "code",
   "execution_count": null,
   "metadata": {},
   "outputs": [],
   "source": [
    "#creating root nodes\n",
    "session.run('CREATE (:File{name:\"p11.txt\"})')\n",
    "session.run('CREATE (:Case_No{No:\"180/2007\"})')\n"
   ]
  },
  {
   "cell_type": "code",
   "execution_count": null,
   "metadata": {
    "scrolled": true
   },
   "outputs": [],
   "source": [
    "#Create root Relationship\n",
    "val=session.run('MATCH (p11:File{name:\"p11.txt\"}), (case180:Case_No{No:\"180/2007\"}) Create (p11)-[:Case_No] ->(case180)')\n",
    "print(val)"
   ]
  },
  {
   "cell_type": "code",
   "execution_count": null,
   "metadata": {},
   "outputs": [],
   "source": [
    "#Judgment date\n",
    "session.run('')"
   ]
  },
  {
   "cell_type": "code",
   "execution_count": null,
   "metadata": {},
   "outputs": [],
   "source": []
  },
  {
   "cell_type": "code",
   "execution_count": null,
   "metadata": {},
   "outputs": [],
   "source": [
    "type(nodes)"
   ]
  },
  {
   "cell_type": "code",
   "execution_count": null,
   "metadata": {},
   "outputs": [],
   "source": []
  },
  {
   "cell_type": "code",
   "execution_count": null,
   "metadata": {},
   "outputs": [],
   "source": []
  },
  {
   "cell_type": "code",
   "execution_count": null,
   "metadata": {},
   "outputs": [],
   "source": [
    "q1 = ('MATCH (:Case_No{No:\"180/2007\"})-[:FIR_Number]->(n:FIR) return n')\n",
    "nodes = session.run(q1)\n",
    "for node in nodes:\n",
    "#     print(dict(dict(node)))\n",
    "    print(dict(dict(node)['n'])['No'])"
   ]
  },
  {
   "cell_type": "code",
   "execution_count": null,
   "metadata": {},
   "outputs": [],
   "source": [
    "type(nodes)"
   ]
  },
  {
   "cell_type": "code",
   "execution_count": null,
   "metadata": {},
   "outputs": [],
   "source": []
  }
 ],
 "metadata": {
  "kernelspec": {
   "display_name": "Python 3",
   "language": "python",
   "name": "python3"
  },
  "language_info": {
   "codemirror_mode": {
    "name": "ipython",
    "version": 3
   },
   "file_extension": ".py",
   "mimetype": "text/x-python",
   "name": "python",
   "nbconvert_exporter": "python",
   "pygments_lexer": "ipython3",
   "version": "3.7.3"
  }
 },
 "nbformat": 4,
 "nbformat_minor": 2
}
